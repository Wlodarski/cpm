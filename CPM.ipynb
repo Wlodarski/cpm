{
 "cells": [
  {
   "cell_type": "markdown",
   "metadata": {},
   "source": [
    "# Critical Path Method (CPM)\n",
    "\n",
    "See Youtube for an overview:\n",
    "* https://www.youtube.com/playlist?list=PLOAuB8dR35oeyKU0ojIxD8Muf6Mwc8ugW\n",
    "\n",
    "-----"
   ]
  },
  {
   "cell_type": "markdown",
   "metadata": {},
   "source": [
    "### importing the library"
   ]
  },
  {
   "cell_type": "code",
   "execution_count": 1,
   "metadata": {
    "pycharm": {
     "is_executing": false
    }
   },
   "outputs": [],
   "source": [
    "import networkx as nx"
   ]
  },
  {
   "cell_type": "markdown",
   "metadata": {},
   "source": [
    "[NetworkX](https://networkx.github.io/) is a Python package for the creation, manipulation, and study of the structure, dynamics, and functions of complex networks."
   ]
  },
  {
   "cell_type": "markdown",
   "metadata": {},
   "source": [
    "### Defining the CPM\n",
    "By redefining the DiGraph class to suit our purpose"
   ]
  },
  {
   "cell_type": "code",
   "execution_count": 2,
   "metadata": {
    "pycharm": {
     "is_executing": false
    }
   },
   "outputs": [],
   "source": [
    "class CPM(nx.DiGraph):\n",
    "    def __init__(self):\n",
    "        super().__init__()\n",
    "        self._dirty = True\n",
    "        self._critical_path_length = -1\n",
    "        self._criticalPath = None\n",
    "\n",
    "    def add_node(self, *args, **kwargs):\n",
    "        self._dirty = True\n",
    "        super().add_node(*args, **kwargs)\n",
    "\n",
    "    def add_nodes_from(self, *args, **kwargs):\n",
    "        self._dirty = True\n",
    "        super().add_nodes_from(*args, **kwargs)\n",
    "\n",
    "    def add_edge(self, *args):\n",
    "        self._dirty = True\n",
    "        super().add_edge(*args)\n",
    "\n",
    "    def add_edges_from(self, *args, **kwargs):\n",
    "        self._dirty = True\n",
    "        super().add_edges_from(*args, **kwargs)\n",
    "\n",
    "    def remove_node(self, *args, **kwargs):\n",
    "        self._dirty = True\n",
    "        super().remove_node(*args, **kwargs)\n",
    "\n",
    "    def remove_nodes_from(self, *args, **kwargs):\n",
    "        self._dirty = True\n",
    "        super().remove_nodes_from(*args, **kwargs)\n",
    "\n",
    "    def remove_edge(self, *args):\n",
    "        self._dirty = True\n",
    "        super().remove_edge(*args)\n",
    "\n",
    "    def remove_edges_from(self, *args, **kwargs):\n",
    "        self._dirty = True\n",
    "        super().remove_edges_from(*args, **kwargs)\n",
    "\n",
    "    def _forward(self):\n",
    "        for n in nx.topological_sort(self):\n",
    "            es = max([self.nodes[j][\"EF\"] for j in self.predecessors(n)], default=0)\n",
    "            self.add_node(n, ES=es, EF=es + self.nodes[n][\"duration\"])\n",
    "\n",
    "    def _backward(self):\n",
    "        for n in reversed(list(nx.topological_sort(self))):\n",
    "            lf = min(\n",
    "                [self.nodes[j][\"LS\"] for j in self.successors(n)],\n",
    "                default=self._critical_path_length,\n",
    "            )\n",
    "            self.add_node(n, LS=lf - self.nodes[n][\"duration\"], LF=lf)\n",
    "\n",
    "    def _compute_critical_path(self):\n",
    "        graph = set()\n",
    "        for n in self:\n",
    "            if self.nodes[n][\"EF\"] == self.nodes[n][\"LF\"]:\n",
    "                graph.add(n)\n",
    "        self._criticalPath = self.subgraph(graph)\n",
    "\n",
    "    @property\n",
    "    def critical_path_length(self):\n",
    "        if self._dirty:\n",
    "            self._update()\n",
    "        return self._critical_path_length\n",
    "\n",
    "    @property\n",
    "    def critical_path(self):\n",
    "        if self._dirty:\n",
    "            self._update()\n",
    "        return sorted(self._criticalPath, key=lambda x: self.nodes[x][\"ES\"])\n",
    "\n",
    "    def _update(self):\n",
    "        self._forward()\n",
    "        self._critical_path_length = max(nx.get_node_attributes(self, \"EF\").values())\n",
    "        self._backward()\n",
    "        self._compute_critical_path()\n",
    "        self._dirty = False"
   ]
  },
  {
   "cell_type": "markdown",
   "metadata": {},
   "source": [
    "### Defining the nodes"
   ]
  },
  {
   "cell_type": "code",
   "execution_count": 3,
   "metadata": {
    "pycharm": {
     "is_executing": false
    }
   },
   "outputs": [],
   "source": [
    "G = CPM()\n",
    "G.add_node(\"A\", duration=5)\n",
    "G.add_node(\"B\", duration=2)\n",
    "G.add_node(\"C\", duration=4)\n",
    "G.add_node(\"D\", duration=4)\n",
    "G.add_node(\"E\", duration=3)\n",
    "G.add_node(\"F\", duration=7)\n",
    "G.add_node(\"G\", duration=3)\n",
    "G.add_node(\"H\", duration=2)\n",
    "G.add_node(\"I\", duration=4)"
   ]
  },
  {
   "cell_type": "markdown",
   "metadata": {},
   "source": [
    "### Defining the edges connecting the nodes"
   ]
  },
  {
   "cell_type": "code",
   "execution_count": 4,
   "metadata": {
    "pycharm": {
     "is_executing": false
    }
   },
   "outputs": [],
   "source": [
    "G.add_edges_from(\n",
    "    [\n",
    "        ('A', 'C'),\n",
    "        ('A', 'D'),\n",
    "        ('B', 'E'),\n",
    "        ('B', 'F'),\n",
    "        ('D', 'G'), ('E', 'G'),\n",
    "        ('F', 'H'),\n",
    "        ('C', 'I'), ('G', 'I'), ('H', 'I')\n",
    "    ]\n",
    ")"
   ]
  },
  {
   "cell_type": "markdown",
   "metadata": {},
   "source": [
    "### Solving the critical path"
   ]
  },
  {
   "cell_type": "code",
   "execution_count": 5,
   "metadata": {
    "pycharm": {
     "is_executing": false
    }
   },
   "outputs": [
    {
     "name": "stdout",
     "text": [
      "Critical path:\n",
      "16 ['A', 'D', 'G', 'I']\n"
     ],
     "output_type": "stream"
    }
   ],
   "source": [
    "print(\"Critical path:\")\n",
    "print(G.critical_path_length, G.critical_path)"
   ]
  },
  {
   "cell_type": "markdown",
   "metadata": {},
   "source": [
    "#### Editing an existing node"
   ]
  },
  {
   "cell_type": "code",
   "execution_count": 6,
   "metadata": {
    "pycharm": {
     "is_executing": false
    }
   },
   "outputs": [],
   "source": [
    "G.add_node(\"D\", duration=2)"
   ]
  },
  {
   "cell_type": "markdown",
   "metadata": {},
   "source": [
    "... to find out how it impacts the critical path"
   ]
  },
  {
   "cell_type": "code",
   "execution_count": 7,
   "metadata": {
    "pycharm": {
     "is_executing": false
    }
   },
   "outputs": [
    {
     "name": "stdout",
     "text": [
      "\n",
      "Crushing D, from 4 to 2, yields:\n",
      "15 ['B', 'F', 'H', 'I']\n"
     ],
     "output_type": "stream"
    }
   ],
   "source": [
    "print(\"\\nCrushing D, from 4 to 2, yields:\")\n",
    "print(G.critical_path_length, G.critical_path)"
   ]
  }
 ],
 "metadata": {
  "kernelspec": {
   "display_name": "Python 3",
   "language": "python",
   "name": "python3"
  },
  "language_info": {
   "codemirror_mode": {
    "name": "ipython",
    "version": 3
   },
   "file_extension": ".py",
   "mimetype": "text/x-python",
   "name": "python",
   "nbconvert_exporter": "python",
   "pygments_lexer": "ipython3",
   "version": "3.8.2"
  },
  "pycharm": {
   "stem_cell": {
    "cell_type": "raw",
    "source": [],
    "metadata": {
     "collapsed": false
    }
   }
  }
 },
 "nbformat": 4,
 "nbformat_minor": 4
}